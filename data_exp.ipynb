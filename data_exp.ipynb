{
 "cells": [
  {
   "cell_type": "code",
   "execution_count": null,
   "metadata": {},
   "outputs": [],
   "source": [
    "%load_ext autoreload\n",
    "%autoreload 2\n",
    "%matplotlib inline\n",
    "\n",
    "import numpy as np\n",
    "from data.fastitem import FastItem\n",
    "from pylab import plt\n",
    "\n",
    "from skimage import transform\n",
    "import torch as t\n",
    "from config import opt\n",
    "from data.tool import show_paf,fig2data,fig2img"
   ]
  },
  {
   "cell_type": "code",
   "execution_count": null,
   "metadata": {},
   "outputs": [],
   "source": [
    "gpu2 = True\n",
    "if gpu2:\n",
    "    opt.img_root='/mnt/7/ai_challenger_keypoint_train_20170909/keypoint_train_images_20170902/'\n",
    "    annos=t.load('/mnt/6/train.pth2')\n",
    "else:    \n",
    "    opt.img_root='/mnt/7/ai_challenger_keypoint_train_20170909/keypoint_train_images_20170902/'\n",
    "    annos=t.load('/mnt/6/train.pth2')"
   ]
  },
  {
   "cell_type": "code",
   "execution_count": null,
   "metadata": {},
   "outputs": [],
   "source": [
    "for anno in annos:\n",
    "    if len(anno[u'keypoint_annotations'])==2:break\n",
    "anno = annos[999]\n",
    "opt.sigma= 1\n",
    "opt.downsample_rate=8\n",
    "a=FastItem(opt,anno)"
   ]
  },
  {
   "cell_type": "code",
   "execution_count": null,
   "metadata": {},
   "outputs": [],
   "source": [
    "x,y,z,m=a.get()"
   ]
  },
  {
   "cell_type": "code",
   "execution_count": null,
   "metadata": {},
   "outputs": [],
   "source": [
    "cc=show_paf(x,z,thres=0.1)"
   ]
  },
  {
   "cell_type": "code",
   "execution_count": null,
   "metadata": {},
   "outputs": [],
   "source": [
    "c=(z[:,:,:]**2).reshape(48,48,13,2).reshape(-1)\n",
    "c.sort()\n",
    "c[::-1][:90]  #并不一定等于1因为可能和其他人有重叠的区域\n",
    "plt.imshow(a.person_num_mask)"
   ]
  },
  {
   "cell_type": "code",
   "execution_count": null,
   "metadata": {},
   "outputs": [],
   "source": [
    "self=a\n",
    "img = self.resize(np.asarray(self._img),self.re_size*self.opt.downsample_rate)"
   ]
  },
  {
   "cell_type": "code",
   "execution_count": null,
   "metadata": {},
   "outputs": [],
   "source": [
    "from data.tool import  fig2img\n",
    "fig2img(cc.get_figure())"
   ]
  },
  {
   "cell_type": "code",
   "execution_count": null,
   "metadata": {},
   "outputs": [],
   "source": [
    "data = fig2data(cc.get_figure()) \n",
    "plt.imshow(data.reshape(288,432,4))"
   ]
  }
 ],
 "metadata": {
  "kernelspec": {
   "display_name": "Python 2",
   "language": "python",
   "name": "python2"
  },
  "language_info": {
   "codemirror_mode": {
    "name": "ipython",
    "version": 2
   },
   "file_extension": ".py",
   "mimetype": "text/x-python",
   "name": "python",
   "nbconvert_exporter": "python",
   "pygments_lexer": "ipython2",
   "version": "2.7.12"
  }
 },
 "nbformat": 4,
 "nbformat_minor": 2
}
